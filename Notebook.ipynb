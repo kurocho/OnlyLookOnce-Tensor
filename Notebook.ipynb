{
 "cells": [
  {
   "cell_type": "code",
   "execution_count": 195,
   "metadata": {},
   "outputs": [],
   "source": [
    "# imports\n",
    "# https://github.com/serengil/tensorflow-101/blob/master/python/Matlab-Model-to-Keras.ipynb\n",
    "# https://sefiks.com/2019/07/15/how-to-convert-matlab-models-to-keras/\n",
    "import tensorflow as tf\n",
    "from tensorflow import keras\n",
    "from keras.models import Model, Sequential\n",
    "from keras.layers import Input, Convolution2D, ZeroPadding2D, MaxPooling2D, Flatten, Dense, Dropout, Activation\n",
    "from keras import layers\n",
    "import scipy.io as sio\n",
    "import os"
   ]
  },
  {
   "cell_type": "code",
   "execution_count": 196,
   "metadata": {},
   "outputs": [
    {
     "name": "stdout",
     "output_type": "stream",
     "text": [
      "{'__header__': b'MATLAB 5.0 MAT-file, Platform: GLNXA64, Created on: Fri Sep 30 08:35:16 2016', '__version__': '1.0', '__globals__': [], 'layers': array([[array([[<scipy.io.matlab.mio5_params.mat_struct object at 0x000001CBB9C68A60>]],\n",
      "      dtype=object),\n",
      "        array([[<scipy.io.matlab.mio5_params.mat_struct object at 0x000001CBB9984E20>]],\n",
      "      dtype=object),\n",
      "        array([[<scipy.io.matlab.mio5_params.mat_struct object at 0x000001CBB99639D0>]],\n",
      "      dtype=object),\n",
      "        array([[<scipy.io.matlab.mio5_params.mat_struct object at 0x000001CBBA09CF40>]],\n",
      "      dtype=object),\n",
      "        array([[<scipy.io.matlab.mio5_params.mat_struct object at 0x000001CBB995CAF0>]],\n",
      "      dtype=object),\n",
      "        array([[<scipy.io.matlab.mio5_params.mat_struct object at 0x000001CBB9F1C190>]],\n",
      "      dtype=object),\n",
      "        array([[<scipy.io.matlab.mio5_params.mat_struct object at 0x000001CBB9F1CA90>]],\n",
      "      dtype=object),\n",
      "        array([[<scipy.io.matlab.mio5_params.mat_struct object at 0x000001CBB9F1C6D0>]],\n",
      "      dtype=object),\n",
      "        array([[<scipy.io.matlab.mio5_params.mat_struct object at 0x000001CBB9CEF310>]],\n",
      "      dtype=object),\n",
      "        array([[<scipy.io.matlab.mio5_params.mat_struct object at 0x000001CBB9CEF070>]],\n",
      "      dtype=object),\n",
      "        array([[<scipy.io.matlab.mio5_params.mat_struct object at 0x000001CBB9CEFDC0>]],\n",
      "      dtype=object),\n",
      "        array([[<scipy.io.matlab.mio5_params.mat_struct object at 0x000001CBB9C1DD60>]],\n",
      "      dtype=object),\n",
      "        array([[<scipy.io.matlab.mio5_params.mat_struct object at 0x000001CBB9C1D700>]],\n",
      "      dtype=object),\n",
      "        array([[<scipy.io.matlab.mio5_params.mat_struct object at 0x000001CBB9C1D9A0>]],\n",
      "      dtype=object),\n",
      "        array([[<scipy.io.matlab.mio5_params.mat_struct object at 0x000001CBB9C1D430>]],\n",
      "      dtype=object),\n",
      "        array([[<scipy.io.matlab.mio5_params.mat_struct object at 0x000001CBB9C0A040>]],\n",
      "      dtype=object),\n",
      "        array([[<scipy.io.matlab.mio5_params.mat_struct object at 0x000001CBB9C0AEE0>]],\n",
      "      dtype=object),\n",
      "        array([[<scipy.io.matlab.mio5_params.mat_struct object at 0x000001CBB9C0A160>]],\n",
      "      dtype=object),\n",
      "        array([[<scipy.io.matlab.mio5_params.mat_struct object at 0x000001CBB98FE3D0>]],\n",
      "      dtype=object),\n",
      "        array([[<scipy.io.matlab.mio5_params.mat_struct object at 0x000001CBB9C0A130>]],\n",
      "      dtype=object),\n",
      "        array([[<scipy.io.matlab.mio5_params.mat_struct object at 0x000001CBB9BFD0A0>]],\n",
      "      dtype=object)]], dtype=object), 'meta': array([[<scipy.io.matlab.mio5_params.mat_struct object at 0x000001CBB9BFDA30>]],\n",
      "      dtype=object)}\n"
     ]
    }
   ],
   "source": [
    "# prepare data\n",
    "working_catalog = r\"C:\\Users\\miugi\\Downloads\"\n",
    "net_path = os.path.join(working_catalog, \"imagenet-vgg-m-1024.mat\")\n",
    "network_mat = sio.loadmat(net_path, matlab_compatible=False, struct_as_record=False)\n",
    "print(network_mat)\n",
    "#TODO what about network_mat[\"meta\"]"
   ]
  },
  {
   "cell_type": "code",
   "execution_count": 197,
   "metadata": {},
   "outputs": [
    {
     "name": "stdout",
     "output_type": "stream",
     "text": [
      "['conv1']\n",
      "['relu1']\n",
      "['norm1']\n",
      "['pool1']\n",
      "['conv2']\n",
      "['relu2']\n",
      "['norm2']\n",
      "['pool2']\n",
      "['conv3']\n",
      "['relu3']\n",
      "['conv4']\n",
      "['relu4']\n",
      "['conv5']\n",
      "['relu5']\n",
      "['pool5']\n",
      "['fc6']\n",
      "['relu6']\n",
      "['fc7']\n",
      "['relu7']\n",
      "['fc8']\n",
      "['prob']\n"
     ]
    }
   ],
   "source": [
    "ref_model_layers = network_mat['layers'][0]\n",
    "for layer in ref_model_layers:\n",
    "    print(layer[0][0].name)"
   ]
  },
  {
   "cell_type": "code",
   "execution_count": 198,
   "metadata": {},
   "outputs": [
    {
     "name": "stdout",
     "output_type": "stream",
     "text": [
      "conv1 :  (7, 7, 3, 96)\n",
      "conv2 :  (5, 5, 96, 256)\n",
      "conv3 :  (3, 3, 256, 512)\n",
      "conv4 :  (3, 3, 512, 512)\n",
      "conv5 :  (3, 3, 512, 512)\n",
      "fc6 :  (6, 6, 512, 4096)\n",
      "fc7 :  (1, 1, 4096, 1024)\n",
      "fc8 :  (1, 1, 1024, 1000)\n"
     ]
    }
   ],
   "source": [
    "for i in range(ref_model_layers.shape[0]):\n",
    "    ref_model_layer = ref_model_layers[i][0,0].name[0]\n",
    "    try:\n",
    "        weights = ref_model_layers[i][0,0].weights[0,0]\n",
    "        print(ref_model_layer,\": \",weights.shape)\n",
    "    except:\n",
    "        #print(ref_model_layer)\n",
    "        print(\"\",end='')"
   ]
  },
  {
   "cell_type": "code",
   "execution_count": 199,
   "metadata": {},
   "outputs": [
    {
     "name": "stdout",
     "output_type": "stream",
     "text": [
      "ZeroPadding2D((1,1))\n",
      "Convolution2D( 96 , ( 7 ,  7 ), name=' conv1 ')\n",
      "Activation('relu', name= relu1\n",
      "--> norm1\n",
      "MaxPooling2D((2,2), strides=(2,2), name= pool1 )\n",
      "ZeroPadding2D((1,1))\n",
      "Convolution2D( 256 , ( 5 ,  5 ), name=' conv2 ')\n",
      "Activation('relu', name= relu2\n",
      "--> norm2\n",
      "MaxPooling2D((2,2), strides=(2,2), name= pool2 )\n",
      "ZeroPadding2D((1,1))\n",
      "Convolution2D( 512 , ( 3 ,  3 ), name=' conv3 ')\n",
      "Activation('relu', name= relu3\n",
      "ZeroPadding2D((1,1))\n",
      "Convolution2D( 512 , ( 3 ,  3 ), name=' conv4 ')\n",
      "Activation('relu', name= relu4\n",
      "ZeroPadding2D((1,1))\n",
      "Convolution2D( 512 , ( 3 ,  3 ), name=' conv5 ')\n",
      "Activation('relu', name= relu5\n",
      "MaxPooling2D((2,2), strides=(2,2), name= pool5 )\n",
      "Convolution2D( 4096 , ( 6 ,  6 ), name=' fc6 ')\n",
      "Activation('relu', name= relu6\n",
      "Convolution2D( 1024 , ( 1 ,  1 ), name=' fc7 ')\n",
      "Activation('relu', name= relu7\n",
      "Convolution2D( 1000 , ( 1 ,  1 ), name=' fc8 ')\n",
      "--> prob\n"
     ]
    }
   ],
   "source": [
    "model = Sequential()\n",
    "for i in range(num_of_ref_model_layers):\n",
    "    ref_model_layer = ref_model_layers[i][0][0].name[0]\n",
    "    if ref_model_layer.find(\"conv\") == 0 or ref_model_layer.find(\"fc\") == 0:\n",
    "        weights = ref_model_layers[i][0,0].weights\n",
    "        weights_shape = weights[0][0].shape\n",
    "        #print(\":\", weights_shape)\n",
    "        filter_x = weights_shape[0]; filter_y = weights_shape[1]\n",
    "        number_of_filters = weights_shape[3]\n",
    "        \n",
    "        if ref_model_layer.find(\"conv\") == 0:\n",
    "            print(\"ZeroPadding2D((1,1))\")\n",
    "            if i == 0:\n",
    "                model.add(ZeroPadding2D((1,1),input_shape=(224,224, 3)))\n",
    "            else:\n",
    "                model.add(ZeroPadding2D((1,1)))\n",
    "        \n",
    "        print(\"Convolution2D(\",number_of_filters,\", (\",filter_x,\", \",filter_y,\"), name='\",ref_model_layer,\"')\")\n",
    "        model.add(Convolution2D(number_of_filters, (filter_x, filter_y), name= ref_model_layer))\n",
    "        \n",
    "    else:\n",
    "        if ref_model_layer.find(\"relu\") == 0:\n",
    "            print(\"Activation('relu', name=\",ref_model_layer)\n",
    "            model.add(Activation('relu', name=ref_model_layer))\n",
    "        elif ref_model_layer.find(\"dropout\") == 0:\n",
    "            print(\"Dropout(0.5, name=\",ref_model_layer,\")\")\n",
    "            model.add(Dropout(0.5, name=ref_model_layer))\n",
    "        elif ref_model_layer.find(\"pool\") == 0:\n",
    "            print(\"MaxPooling2D((2,2), strides=(2,2), name=\",ref_model_layer,\")\")\n",
    "            model.add(MaxPooling2D((2,2), strides=(2,2), name=ref_model_layer))\n",
    "        elif ref_model_layer.find(\"softmax\") == 0:\n",
    "            print(\"Activation('softmax', name=\",ref_model_layer,\")\")\n",
    "            model.add(Activation('softmax', name=ref_model_layer))\n",
    "        else:\n",
    "            print(\"-->\",ref_model_layer)       "
   ]
  },
  {
   "cell_type": "code",
   "execution_count": 200,
   "metadata": {},
   "outputs": [
    {
     "name": "stdout",
     "output_type": "stream",
     "text": [
      "conv1 :  (7, 7, 3, 96)\n",
      "conv2 :  (5, 5, 96, 256)\n",
      "conv3 :  (3, 3, 256, 512)\n",
      "conv4 :  (3, 3, 512, 512)\n",
      "conv5 :  (3, 3, 512, 512)\n",
      "fc6 :  (6, 6, 512, 4096)\n",
      "fc7 :  (1, 1, 4096, 1024)\n",
      "fc8 :  (1, 1, 1024, 1000)\n"
     ]
    }
   ],
   "source": [
    "for layer in model.layers:\n",
    "    layer_name = layer.name\n",
    "    try:\n",
    "        print(layer_name,\": \",layer.weights[0].shape)\n",
    "    except:\n",
    "        print(\"\",end='')"
   ]
  },
  {
   "cell_type": "code",
   "execution_count": 201,
   "metadata": {},
   "outputs": [],
   "source": [
    "base_model_layer_names = [layer.name for layer in model.layers]\n",
    "num_of_ref_model_layers = ref_model_layers.shape[0]"
   ]
  },
  {
   "cell_type": "code",
   "execution_count": 202,
   "metadata": {},
   "outputs": [
    {
     "name": "stdout",
     "output_type": "stream",
     "text": [
      "0 .  conv1\n",
      "4 .  conv2\n",
      "8 .  conv3\n",
      "10 .  conv4\n",
      "12 .  conv5\n",
      "15 .  fc6\n",
      "17 .  fc7\n",
      "19 .  fc8\n"
     ]
    }
   ],
   "source": [
    "for i in range(num_of_ref_model_layers):\n",
    "    ref_model_layer = ref_model_layers[i][0,0].name[0]\n",
    "    if ref_model_layer in base_model_layer_names:\n",
    "        #we just need to set convolution and fully connected weights\n",
    "        if ref_model_layer.find(\"conv\") == 0 or ref_model_layer.find(\"fc\") == 0:\n",
    "            print(i,\". \",ref_model_layer)\n",
    "            base_model_index = base_model_layer_names.index(ref_model_layer)\n",
    "            \n",
    "            weights = ref_model_layers[i][0,0].weights[0,0]\n",
    "            bias = ref_model_layers[i][0,0].weights[0,1]\n",
    "            \n",
    "            model.layers[base_model_index].set_weights([weights, bias[:,0]])"
   ]
  },
  {
   "cell_type": "code",
   "execution_count": 203,
   "metadata": {},
   "outputs": [],
   "source": [
    "model.save_weights('weights.h5')"
   ]
  }
 ],
 "metadata": {
  "kernelspec": {
   "display_name": "Python 3",
   "language": "python",
   "name": "python3"
  },
  "language_info": {
   "codemirror_mode": {
    "name": "ipython",
    "version": 3
   },
   "file_extension": ".py",
   "mimetype": "text/x-python",
   "name": "python",
   "nbconvert_exporter": "python",
   "pygments_lexer": "ipython3",
   "version": "3.8.5"
  }
 },
 "nbformat": 4,
 "nbformat_minor": 4
}
